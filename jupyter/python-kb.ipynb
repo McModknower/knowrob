{
 "cells": [
  {
   "cell_type": "markdown",
   "id": "67d5ffd8-7d7e-4cb8-a0b6-06aaf4ab6c14",
   "metadata": {},
   "source": [
    "# Using KnowRob in Python\n",
    "\n",
    "This notebook demonstrates how to use the KnowRob system directly in Python. It includes importing necessary modules, initializing the knowledge base, and executing queries.\n",
    "\n",
    "### Importing KnowRob Modules"
   ]
  },
  {
   "cell_type": "code",
   "execution_count": 1,
   "id": "2338f118-244d-4b65-81b7-156f96b39b1f",
   "metadata": {
    "editable": true,
    "slideshow": {
     "slide_type": ""
    },
    "tags": []
   },
   "outputs": [
   ],
   "source": [
    "import json\n",
    "try:\n",
    "\t# This case works in ros1 environments\n",
    "\tfrom knowrob.kb import *\n",
    "except ImportError:\n",
    "\t# If the import fails, import the knowrob.so directly\n",
    "\tfrom knowrob import *"
   ]
  },
  {
   "cell_type": "markdown",
   "id": "90033b5c-b6fc-432c-9032-ea100fcbb9e6",
   "metadata": {},
   "source": [
    "First, we import the required modules from KnowRob. The `try-except` block ensures compatibility with different ROS environments, either using the ROS1-specific package or directly loading `knowrob.so`."
   ]
  },
  {
   "cell_type": "code",
   "execution_count": null,
   "id": "5efe2da6-40e0-4743-a7bc-d16a89f251ed",
   "metadata": {
    "tags": []
   },
   "outputs": [],
   "source": [
    "InitKnowRob()"
   ]
  },
  {
   "cell_type": "markdown",
   "id": "7d3d639e-8d79-438c-98c5-f6786a7d8c25",
   "metadata": {},
   "source": [
    "The `InitKnowRob()` function initializes the KnowRob system, setting up necessary configurations and connections.\n",
    "\n",
    "### Setting Up Knowledge Base"
   ]
  },
  {
   "cell_type": "code",
   "execution_count": null,
   "id": "b3b96755-43b8-4ee2-9e74-c6128808b052",
   "metadata": {
    "tags": []
   },
   "outputs": [],
   "source": [
    "# Sample dictionary to be converted to JSON\n",
    "sample_dict = {\n",
    "\t\"logging\": {\n",
    "\t\t\"console-sink\": {\"level\": \"debug\"},\n",
    "\t\t\"file-sink\": {\"level\": \"debug\"}\n",
    "\t},\n",
    "\t\"semantic-web\": {\n",
    "\t\t\"prefixes\": [\n",
    "\t\t\t{\"alias\": \"swrl_test\", \"uri\": \"http://knowrob.org/kb/swrl_test\"}\n",
    "\t\t]\n",
    "\t},\n",
    "\t\"data-sources\": [\n",
    "\t\t{\"path\": \"owl/test/swrl.owl\", \"format\": \"rdf-xml\"}\n",
    "\t],\n",
    "\t\"data-backends\": [\n",
    "\t\t{\n",
    "\t\t\t\"type\": \"MongoDB\",\n",
    "\t\t\t\"name\": \"mongodb\",\n",
    "\t\t\t\"host\": \"localhost\",\n",
    "\t\t\t\"port\": 27017,\n",
    "\t\t\t\"db\": \"test\",\n",
    "\t\t\t\"read-only\": False\n",
    "\t\t}\n",
    "\t],\n",
    "\t\"reasoner\": []\n",
    "}\n",
    "# Convert the dictionary to a JSON string\n",
    "json_str = json.dumps(sample_dict)\n",
    "# Initialize the KnowledgeBase with the PropertyTree\n",
    "kb = KnowledgeBase(json_str)"
   ]
  },
  {
   "cell_type": "markdown",
   "id": "1366faf4-24ba-43ad-ae3c-0358178e54eb",
   "metadata": {},
   "source": [
    "This block defines the configuration for the KnowledgeBase, including logging, semantic web prefixes, data sources, and backends. The configuration is then serialized to a JSON string and used to initialize the `KnowledgeBase` instance.\n",
    "\n",
    "### Submitting a Query"
   ]
  },
  {
   "cell_type": "code",
   "execution_count": null,
   "id": "250ae5df-d7bd-4751-b6ab-44058f591b2e",
   "metadata": {
    "tags": []
   },
   "outputs": [],
   "source": [
    "phi1 = QueryParser.parse(\"swrl_test:hasAncestor(swrl_test:'Lea', ?y)\")"
   ]
  },
  {
   "cell_type": "markdown",
   "id": "bcc512a8-acbb-47ae-a6a6-b0d4a99af167",
   "metadata": {},
   "source": [
    "Here, a query is parsed using the `QueryParser`. The query checks for ancestors of the entity `Lea` within the `swrl_test` namespace.\n",
    "\n",
    "### Retrieving Query Results"
   ]
  },
  {
   "cell_type": "code",
   "execution_count": null,
   "id": "700da5cd-029e-4aaf-a9d0-8c682f213715",
   "metadata": {
    "editable": true,
    "slideshow": {
     "slide_type": ""
    },
    "tags": []
   },
   "outputs": [],
   "source": [
    "resultStream = kb.submitQueryFormula(phi1, QueryContext(QueryFlag.QUERY_FLAG_ALL_SOLUTIONS))\n",
    "resultQueue = resultStream.createQueue()\n",
    "# Get the result\n",
    "nextResult1 = resultQueue.pop_front()"
   ]
  },
  {
   "cell_type": "markdown",
   "id": "68540130-5b84-45e8-bc41-6d348e0c34d1",
   "metadata": {},
   "source": [
    "The query formulated in the previous step is submitted to the KnowledgeBase. The results are retrieved as a stream, and a queue is created to handle them.\n",
    "\n",
    "### Processing Query Results\n"
   ]
  },
  {
   "cell_type": "code",
   "execution_count": null,
   "id": "8419b46a-efbd-4155-9c6b-005115953069",
   "metadata": {
    "tags": []
   },
   "outputs": [],
   "source": [
    "if isinstance(nextResult1, AnswerYes):\n",
    "    for substitution in nextResult1.substitution():\n",
    "        variable = substitution[1]\n",
    "        term = substitution[2]\n",
    "        print(str(variable) + \" : \" + str(term))"
   ]
  },
  {
   "cell_type": "markdown",
   "id": "73abc9e1-ad38-4c30-8729-7e81686c0779",
   "metadata": {},
   "source": [
    "This block checks if the result is affirmative (`AnswerYes`) and prints each substitution found in the query result, listing variable bindings.\n",
    "\n",
    "### Negative Query Result Handling\n"
   ]
  },
  {
   "cell_type": "code",
   "execution_count": null,
   "id": "a51685a2-ec68-4cd9-80b9-74bca6ed465f",
   "metadata": {
    "tags": []
   },
   "outputs": [],
   "source": [
    "phi2 = QueryParser.parse(\"swrl_test:hasAncestor(swrl_test:'Lea', swrl_test:'Lea')\")\n",
    "resultStream = kb.submitQueryFormula(phi2, QueryContext(QueryFlag.QUERY_FLAG_ALL_SOLUTIONS))\n",
    "resultQueue = resultStream.createQueue()\n",
    "# Get the result\n",
    "nextResult2 = resultQueue.pop_front()\n",
    "if isinstance(nextResult2, AnswerNo):\n",
    "    print(\"result is negative\")"
   ]
  },
  {
   "cell_type": "markdown",
   "id": "96748fbb-dbcb-4ca3-a7c3-bbf877db3815",
   "metadata": {},
   "source": [
    "A second query checks for a specific condition, in this case, whether `Lea` is an ancestor of herself, which is expected to be false. The result is handled accordingly.\n",
    "\n",
    "### Inconclusive Query Result Handling"
   ]
  },
  {
   "cell_type": "code",
   "execution_count": null,
   "id": "e243668f-d418-4e99-a058-fd1dbfb3b692",
   "metadata": {
    "tags": []
   },
   "outputs": [],
   "source": [
    "phi3 = QueryParser.parse(\"r(?x, ?y)\")\n",
    "resultStream = kb.submitQueryFormula(phi3, QueryContext(QueryFlag.QUERY_FLAG_ALL_SOLUTIONS))\n",
    "resultQueue = resultStream.createQueue()\n",
    "# Get the result\n",
    "nextResult3 = resultQueue.pop_front()\n",
    "if isinstance(nextResult3, AnswerDontKnow):\n",
    "    print(\"We can't say if the result is true or false\")"
   ]
  },
  {
   "cell_type": "markdown",
   "id": "649c8f61-2809-4dfa-ae6f-db1655a43fdc",
   "metadata": {},
   "source": [
    "\n",
    "The final example demonstrates handling a situation where the system cannot determine the truth value of the query, resulting in an `AnswerDontKnow` response."
   ]
  },
  {
   "cell_type": "code",
   "execution_count": null,
   "id": "4ddf276a-bd2e-478f-9d14-b3ecb4d3a43a",
   "metadata": {},
   "outputs": [],
   "source": []
  }
 ],
 "metadata": {
  "kernelspec": {
   "display_name": "Python 3 (ipykernel)",
   "language": "python",
   "name": "python3"
  },
  "language_info": {
   "codemirror_mode": {
    "name": "ipython",
    "version": 3
   },
   "file_extension": ".py",
   "mimetype": "text/x-python",
   "name": "python",
   "nbconvert_exporter": "python",
   "pygments_lexer": "ipython3",
   "version": "3.10.12"
  }
 },
 "nbformat": 4,
 "nbformat_minor": 5
}
